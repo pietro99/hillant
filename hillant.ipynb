{
 "cells": [
  {
   "cell_type": "code",
   "execution_count": null,
   "metadata": {},
   "outputs": [],
   "source": [
    "import random\n",
    "import matplotlib\n",
    "import matplotlib.pyplot as plt\n",
    "import scipy.stats as st\n",
    "import numpy as np\n",
    "from scipy import stats\n",
    "from tqdm import tqdm\n",
    "\n",
    "class HillAnt():\n",
    "    '''\n",
    "    HillAnt class for simulating a 2D random walk.\n",
    "    '''\n",
    "\n",
    "    def __init__(self):\n",
    "        self.reset()\n",
    "\n",
    "    def reset(self):\n",
    "        self.pos_x = 0\n",
    "        self.pos_y = 0\n",
    "        self.seconds = 0\n",
    "    \n",
    "    def step(self):\n",
    "        direction = random.choice([1, -1])\n",
    "        is_y = random.choice([True, False])\n",
    "        if is_y:\n",
    "            self.pos_y += direction * 10\n",
    "        else:\n",
    "            self.pos_x += direction * 10\n",
    "        self.seconds += 1\n",
    "\n",
    "    @property\n",
    "    def coordinates(self):\n",
    "        return [self.pos_x, self.pos_y]\n",
    "    \n",
    "    \n",
    "    def satisfy_equation(self, eq):\n",
    "        def cond():\n",
    "            if(eq(self.coordinates[0], self.coordinates[1])):\n",
    "                return True\n",
    "            return False\n",
    "        return cond\n",
    "\n",
    "    \n",
    "    def sim(self, condition):\n",
    "        def run():\n",
    "            sim_result = 0\n",
    "            while not condition() and self.seconds<= 1000000:\n",
    "                self.step()\n",
    "            sim_result = self.seconds\n",
    "            self.reset()\n",
    "            return sim_result\n",
    "        return run\n",
    "    \n",
    "    def sim_fixed_run(self, condition, seconds):\n",
    "        def run():\n",
    "            for i in range(seconds+1):\n",
    "                if condition():\n",
    "                    self.reset()\n",
    "                    return True\n",
    "                self.step()\n",
    "            self.reset()\n",
    "            return False\n",
    "        return run\n",
    "\n",
    "   \n",
    "\n",
    "\n",
    "\n",
    "\n",
    "\n"
   ]
  },
  {
   "cell_type": "code",
   "execution_count": null,
   "metadata": {},
   "outputs": [],
   "source": [
    "#define function to run simulation\n",
    "def monteCarlo(sim, n):\n",
    "    results = []\n",
    "    for _ in  tqdm(range(0, n)):\n",
    "        result = sim()\n",
    "        results.append(result)\n",
    "    return results\n",
    "\n",
    "#function to analyze results\n",
    "def analyze(res):\n",
    "    \n",
    "    print(f'mean:  {np.mean(res)}')\n",
    "    print(f'median: {np.median(res)}')\n",
    "    print(f'mode: {stats.mode(res)}')\n",
    "\n",
    "    print(f'Means Confidence Intervals: {st.t.interval(0.95, len(res)-1, loc=sum(res)/len(res), scale=st.sem(res))}')"
   ]
  },
  {
   "cell_type": "code",
   "execution_count": null,
   "metadata": {},
   "outputs": [],
   "source": [
    "hillAnt = HillAnt()\n",
    "\n",
    "#number of runs\n",
    "n2 = 1000000 #for line boundary\n",
    "n = 100000\n",
    "\n",
    "#define the boundary conditions for the simulation\n",
    "def boundary3(x, y):\n",
    "    return (((x-2.5)/30)**2) + (((y-2.5)/40)**2) > 1\n",
    "\n",
    "def square_boundary(x, y):\n",
    "    return abs(x) >= 20 or abs(y)>= 20\n",
    "\n",
    "def line(x, y):\n",
    "    return (-1*x) + 10 == y\n",
    "\n",
    "def line2(x, y):\n",
    "    return (-1*x) + 20 == y"
   ]
  },
  {
   "cell_type": "code",
   "execution_count": null,
   "metadata": {},
   "outputs": [],
   "source": [
    "#run simulations and gather results\n",
    "res1 = monteCarlo(hillAnt.sim(hillAnt.satisfy_equation(boundary3)), n)\n",
    "analyze(res1)\n",
    "\n",
    "res2 = monteCarlo(hillAnt.sim(hillAnt.satisfy_equation(square_boundary)), n)\n",
    "analyze(res2)\n",
    "\n",
    "res3 = monteCarlo(hillAnt.sim(hillAnt.satisfy_equation(line)), n2)\n",
    "analyze(res3)"
   ]
  },
  {
   "cell_type": "code",
   "execution_count": null,
   "metadata": {},
   "outputs": [],
   "source": [
    "results = []\n",
    "summation = 0\n",
    "for i in range(1, 31, 2):\n",
    "    res4 = monteCarlo(hillAnt.sim_fixed_run(hillAnt.satisfy_equation(line), i), n)\n",
    "    rs =sum(res4)/len(res4)\n",
    "    summation+=i*rs\n",
    "    print(summation)\n",
    "    results.append(rs)"
   ]
  },
  {
   "cell_type": "code",
   "execution_count": null,
   "metadata": {},
   "outputs": [],
   "source": []
  },
  {
   "cell_type": "code",
   "execution_count": null,
   "metadata": {},
   "outputs": [],
   "source": [
    "sum(res4)/len(res4)"
   ]
  },
  {
   "cell_type": "code",
   "execution_count": null,
   "metadata": {},
   "outputs": [],
   "source": [
    "prob = []\n",
    "for i in tqdm(range(0,1000000)):\n",
    "    prob.append(np.count_nonzero(res3 == i)/len(res3))"
   ]
  },
  {
   "cell_type": "code",
   "execution_count": null,
   "metadata": {},
   "outputs": [],
   "source": [
    "plt.plot(prob)\n",
    "plt.xlim([0, 100])"
   ]
  },
  {
   "cell_type": "code",
   "execution_count": null,
   "metadata": {},
   "outputs": [],
   "source": [
    "def generate_random_walk(n):\n",
    "    if n == 0:\n",
    "        return []\n",
    "    x, y = 0, 0  # Starting position\n",
    "    paths = []\n",
    "    directions = [(10, 0), (-10, 0), (0, 10), (0, -10)]  # Right, Left, Up, Down\n",
    "\n",
    "    def explore_path(current_path, current_x, current_y):\n",
    "        if len(current_path) == n:\n",
    "            paths.append(current_path)\n",
    "            return\n",
    "\n",
    "        for dx, dy in directions:\n",
    "            next_x, next_y = current_x + dx, current_y + dy\n",
    "            next_path = current_path + [(next_x, next_y)]\n",
    "            explore_path(next_path, next_x, next_y)\n",
    "\n",
    "    explore_path([(0, 0)], x, y)\n",
    "    return paths\n",
    "\n",
    "def has_condition(path, cond):\n",
    "    for point in path:\n",
    "        if cond(point[0], point[1]):\n",
    "            return True\n",
    "    return False\n",
    "\n",
    "def has_condition_last(path, cond):\n",
    "    point = path[-1]\n",
    "    if cond(point[0], point[1]):\n",
    "        return True\n",
    "    return False\n",
    "\n",
    "def numerate_paths(paths, cond):\n",
    "    conds = []\n",
    "    for path in paths:\n",
    "        conds.append(has_condition_last(path, cond))\n",
    "    return conds\n",
    "\n"
   ]
  },
  {
   "cell_type": "code",
   "execution_count": null,
   "metadata": {},
   "outputs": [],
   "source": [
    "prob=1\n",
    "for i in range(1, 15):\n",
    "    probs = []\n",
    "    paths = generate_random_walk(i)\n",
    "    b = np.asarray(numerate_paths(paths, line))\n",
    "    prob *= i*sum(b)/len(b)\n",
    "    print(prob)\n",
    "    probs.append(prob)"
   ]
  },
  {
   "cell_type": "code",
   "execution_count": 1,
   "metadata": {},
   "outputs": [],
   "source": [
    "def formula(n):\n",
    "    if n%2 == 0:\n",
    "        return 0\n",
    "    \n",
    "    if n == 1:\n",
    "        return 0.5\n",
    "    \n",
    "    return formula(n-2) * (1 - (1/(n+1)))\n"
   ]
  },
  {
   "cell_type": "code",
   "execution_count": null,
   "metadata": {},
   "outputs": [],
   "source": [
    "combined = 0\n",
    "for i in range(1, 1111, 2):\n",
    "    combined =(formula(i))\n",
    "    print(combined)"
   ]
  }
 ],
 "metadata": {
  "kernelspec": {
   "display_name": "Python 3",
   "language": "python",
   "name": "python3"
  },
  "language_info": {
   "codemirror_mode": {
    "name": "ipython",
    "version": 3
   },
   "file_extension": ".py",
   "mimetype": "text/x-python",
   "name": "python",
   "nbconvert_exporter": "python",
   "pygments_lexer": "ipython3",
   "version": "3.10.3"
  },
  "orig_nbformat": 4
 },
 "nbformat": 4,
 "nbformat_minor": 2
}
