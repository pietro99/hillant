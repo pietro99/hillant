{
 "cells": [
  {
   "cell_type": "code",
   "execution_count": 1,
   "metadata": {},
   "outputs": [],
   "source": [
    "import random\n",
    "import matplotlib\n",
    "import matplotlib.pyplot as plt\n",
    "import scipy.stats as st\n",
    "import numpy as np\n",
    "from scipy import stats\n",
    "from tqdm import tqdm\n",
    "\n",
    "class HillAnt():\n",
    "    def __init__(self):\n",
    "        self.reset()\n",
    "\n",
    "    def reset(self):\n",
    "        self.pos_x = 0\n",
    "        self.pos_y = 0\n",
    "        self.seconds = 0\n",
    "    \n",
    "    def step(self):\n",
    "        direction = random.choice([1, -1])\n",
    "        is_y = random.choice([True, False])\n",
    "        if is_y:\n",
    "            self.pos_y += direction * 10\n",
    "        else:\n",
    "            self.pos_x += direction * 10\n",
    "        self.seconds += 1\n",
    "\n",
    "    @property\n",
    "    def coordinates(self):\n",
    "        return [self.pos_x, self.pos_y]\n",
    "    \n",
    "    \n",
    "    def is_in_square(self, length):\n",
    "        def cond():\n",
    "            if abs(self.coordinates[0]) >= length or abs(self.coordinates[1])>= length:\n",
    "                return True\n",
    "            return False\n",
    "        return cond\n",
    "    \n",
    "    \n",
    "    def is_in_line(self, m, c):\n",
    "        def cond():\n",
    "            if (m * self.coordinates[0]) + c == self.coordinates[1]:\n",
    "                return True\n",
    "            return False\n",
    "        return cond\n",
    "    \n",
    "    def satisfy_equation(self, eq):\n",
    "        def cond():\n",
    "            if(eq(self.coordinates[0], self.coordinates[1])):\n",
    "                return True\n",
    "            return False\n",
    "        return cond\n",
    "\n",
    "    \n",
    "\n",
    "    def sim(self, condition):\n",
    "        def run():\n",
    "            sim_result = 0\n",
    "            while not condition():\n",
    "                self.step()\n",
    "            sim_result = self.seconds\n",
    "            self.reset()\n",
    "            return sim_result\n",
    "        return run\n",
    "\n",
    "\n",
    "\n",
    "\n"
   ]
  },
  {
   "cell_type": "code",
   "execution_count": 2,
   "metadata": {},
   "outputs": [],
   "source": [
    "def monteCarlo(sim, n):\n",
    "    results = []\n",
    "    for _ in  tqdm(range(0, n)):\n",
    "        result = sim()\n",
    "        results.append(result)\n",
    "    return results\n",
    "\n",
    "hillAnt = HillAnt()\n",
    "\n",
    "n2 = 1000000\n",
    "n = 1000000\n",
    "\n",
    "def boundary3(x, y):\n",
    "    return (((x-2.5)/30)**2) + (((y-2.5)/40)**2) > 1\n",
    "\n",
    "def square_boundary(x, y):\n",
    "    return abs(x) >= 20 or abs(y)>= 20\n",
    "\n",
    "def line(x, y):\n",
    "    return (-1*x) + 10 == y\n",
    "\n",
    "def analyze(res):\n",
    "    \n",
    "    print(f'mean:  {np.mean(res)}')\n",
    "    print(f'median: {np.median(res)}')\n",
    "    print(f'mode: {stats.mode(res)}')\n",
    "\n",
    "    print(f'Means Confidence Intervals: {st.t.interval(0.95, len(res)-1, loc=sum(res)/len(res), scale=st.sem(res))}')\n",
    "    "
   ]
  },
  {
   "cell_type": "code",
   "execution_count": 3,
   "metadata": {},
   "outputs": [
    {
     "name": "stderr",
     "output_type": "stream",
     "text": [
      "  0%|          | 0/1000000 [00:00<?, ?it/s]"
     ]
    },
    {
     "name": "stderr",
     "output_type": "stream",
     "text": [
      "100%|██████████| 1000000/1000000 [00:31<00:00, 31733.08it/s]\n"
     ]
    },
    {
     "name": "stdout",
     "output_type": "stream",
     "text": [
      "mean:  13.984073\n",
      "median: 11.0\n",
      "mode: ModeResult(mode=array([7]), count=array([102432]))\n",
      "Means Confidence Intervals: (13.965191902155285, 14.002954097844716)\n"
     ]
    },
    {
     "name": "stderr",
     "output_type": "stream",
     "text": [
      "100%|██████████| 1000000/1000000 [00:08<00:00, 115840.15it/s]\n"
     ]
    },
    {
     "name": "stdout",
     "output_type": "stream",
     "text": [
      "mean:  4.500965\n",
      "median: 3.0\n",
      "mode: ModeResult(mode=array([2]), count=array([250497]))\n",
      "Means Confidence Intervals: (4.49532329978984, 4.50660670021016)\n"
     ]
    },
    {
     "name": "stderr",
     "output_type": "stream",
     "text": [
      "  3%|▎         | 26031/1000000 [06:20<32:01, 506.77it/s]  "
     ]
    }
   ],
   "source": [
    "res1 = monteCarlo(hillAnt.sim(hillAnt.satisfy_equation(boundary3)), n)\n",
    "analyze(res1)\n",
    "\n",
    "res2 = monteCarlo(hillAnt.sim(hillAnt.satisfy_equation(square_boundary)), n)\n",
    "analyze(res2)\n",
    "\n",
    "res3 = monteCarlo(hillAnt.sim(hillAnt.satisfy_equation(line)), n2)\n",
    "analyze(res3)\n"
   ]
  },
  {
   "cell_type": "code",
   "execution_count": null,
   "metadata": {},
   "outputs": [],
   "source": [
    "res1"
   ]
  },
  {
   "cell_type": "code",
   "execution_count": null,
   "metadata": {},
   "outputs": [],
   "source": [
    "max(set(res2), key=res2.count)"
   ]
  },
  {
   "cell_type": "code",
   "execution_count": null,
   "metadata": {},
   "outputs": [],
   "source": [
    "max(set(res4), key=res2.count)"
   ]
  },
  {
   "cell_type": "code",
   "execution_count": null,
   "metadata": {},
   "outputs": [],
   "source": []
  }
 ],
 "metadata": {
  "kernelspec": {
   "display_name": "Python 3",
   "language": "python",
   "name": "python3"
  },
  "language_info": {
   "codemirror_mode": {
    "name": "ipython",
    "version": 3
   },
   "file_extension": ".py",
   "mimetype": "text/x-python",
   "name": "python",
   "nbconvert_exporter": "python",
   "pygments_lexer": "ipython3",
   "version": "3.10.3"
  },
  "orig_nbformat": 4
 },
 "nbformat": 4,
 "nbformat_minor": 2
}
